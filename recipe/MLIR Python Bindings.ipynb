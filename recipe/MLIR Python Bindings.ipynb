{
 "cells": [
  {
   "cell_type": "markdown",
   "id": "9a77a474",
   "metadata": {},
   "source": [
    "### Installation\n",
    "\n",
    "conda install -c jim22k mlir-bindings"
   ]
  },
  {
   "cell_type": "code",
   "execution_count": 1,
   "id": "5cacff2a",
   "metadata": {},
   "outputs": [],
   "source": [
    "# This is only needed if the bindings are built locally\n",
    "#import sys\n",
    "#sys.path.append(\"/Users/jkitchen/Projects/llvm/llvm-project/build/tools/mlir/python_packages/mlir_core\")\n",
    "\n",
    "# This is not needed\n",
    "# SHARED_LIB = \"/Users/jkitchen/Projects/llvm/llvm-project/build/lib/libmlir_c_runner_utils.dylib\""
   ]
  },
  {
   "cell_type": "code",
   "execution_count": 2,
   "id": "5839e907",
   "metadata": {},
   "outputs": [],
   "source": [
    "import ctypes\n",
    "import numbers\n",
    "import mlir\n",
    "import numpy as np\n",
    "from mlir import ir\n",
    "from mlir import passmanager\n",
    "from mlir import execution_engine\n",
    "from mlir import runtime\n",
    "from mlir import dialects\n",
    "\n",
    "from mlir.dialects import arith\n",
    "from mlir.dialects import bufferization\n",
    "from mlir.dialects import func\n",
    "from mlir.dialects import linalg\n",
    "from mlir.dialects import sparse_tensor\n",
    "from mlir.dialects import tensor\n",
    "from mlir.dialects import scf"
   ]
  },
  {
   "cell_type": "markdown",
   "id": "c5b4f6b8",
   "metadata": {},
   "source": [
    "### Add hardcoded ints"
   ]
  },
  {
   "cell_type": "code",
   "execution_count": 3,
   "id": "850d7449",
   "metadata": {},
   "outputs": [
    {
     "name": "stdout",
     "output_type": "stream",
     "text": [
      "module {\n",
      "  func.func @main() -> i32 attributes {llvm.emit_c_interface} {\n",
      "    %c1_i32 = arith.constant 1 : i32\n",
      "    %c2_i32 = arith.constant 2 : i32\n",
      "    %0 = arith.addi %c1_i32, %c2_i32 : i32\n",
      "    return %0 : i32\n",
      "  }\n",
      "}\n",
      "\n",
      "------------------------------\n",
      "result = 3\n"
     ]
    }
   ],
   "source": [
    "with ir.Context(), ir.Location.unknown():\n",
    "    module = ir.Module.create()\n",
    "    with ir.InsertionPoint(module.body):\n",
    "        i32 = ir.IntegerType.get_signless(32)\n",
    "        @func.FuncOp.from_py_func()\n",
    "        def main():\n",
    "            one = arith.ConstantOp(i32, 1)\n",
    "            two = arith.ConstantOp(i32, 2)\n",
    "            total = arith.AddIOp(one, two)\n",
    "            return total\n",
    "        main.func_op.attributes[\"llvm.emit_c_interface\"] = ir.UnitAttr.get()\n",
    "    # It is okay to manually specify passes\n",
    "    pm = passmanager.PassManager.parse(\"convert-arith-to-llvm,convert-func-to-llvm\")\n",
    "print(module)\n",
    "pm = pm.run(module)\n",
    "engine = execution_engine.ExecutionEngine(module)\n",
    "arg_pointers = [\n",
    "    ctypes.pointer(ctypes.c_long(0)),\n",
    "]\n",
    "engine.invoke(\"main\", *arg_pointers)\n",
    "print('-'*30)\n",
    "print(f\"result = {arg_pointers[0].contents.value}\")"
   ]
  },
  {
   "cell_type": "markdown",
   "id": "c32aaca9",
   "metadata": {},
   "source": [
    "**Notes:**\n",
    "\n",
    "Values (like `total`) have:\n",
    "\n",
    "- total.attributes\n",
    "- total.regions\n",
    "- total.operands\n",
    "- total.results"
   ]
  },
  {
   "cell_type": "markdown",
   "id": "e2149188",
   "metadata": {},
   "source": [
    "### Multiply input floats"
   ]
  },
  {
   "cell_type": "code",
   "execution_count": 4,
   "id": "33b791a4",
   "metadata": {},
   "outputs": [
    {
     "name": "stdout",
     "output_type": "stream",
     "text": [
      "module {\n",
      "  func.func @main(%arg0: f64, %arg1: f64) -> f64 attributes {llvm.emit_c_interface} {\n",
      "    %0 = arith.mulf %arg0, %arg1 : f64\n",
      "    return %0 : f64\n",
      "  }\n",
      "}\n",
      "\n",
      "------------------------------\n",
      "result=-31.875\n"
     ]
    }
   ],
   "source": [
    "with ir.Context(), ir.Location.unknown():\n",
    "    module = ir.Module.create()\n",
    "    with ir.InsertionPoint(module.body):\n",
    "        f64 = ir.F64Type.get()\n",
    "        @func.FuncOp.from_py_func(f64, f64)\n",
    "        def main(x, y):\n",
    "            product = arith.MulFOp(x, y)\n",
    "            return product\n",
    "        main.func_op.attributes[\"llvm.emit_c_interface\"] = ir.UnitAttr.get()\n",
    "    pm = passmanager.PassManager.parse(\"sparse-compiler\")  # pre-built pass pipeline\n",
    "print(module)\n",
    "pm = pm.run(module)\n",
    "engine = execution_engine.ExecutionEngine(module)\n",
    "\n",
    "def mul2(x, y):\n",
    "    arg_pointers = [\n",
    "        ctypes.pointer(ctypes.c_double(x)),\n",
    "        ctypes.pointer(ctypes.c_double(y)),\n",
    "        ctypes.pointer(ctypes.c_double(0)),  # result usually goes at the end\n",
    "    ]\n",
    "    engine.invoke(\"main\", *arg_pointers)\n",
    "    return arg_pointers[-1].contents.value\n",
    "\n",
    "result = mul2(-1.5, 21.25)\n",
    "print('-'*30)\n",
    "print(f\"{result=}\")"
   ]
  },
  {
   "cell_type": "code",
   "execution_count": 5,
   "id": "ebbacb88",
   "metadata": {},
   "outputs": [
    {
     "data": {
      "text/plain": [
       "2.4200000000000004"
      ]
     },
     "execution_count": 5,
     "metadata": {},
     "output_type": "execute_result"
    }
   ],
   "source": [
    "mul2(1.1, 2.2)"
   ]
  },
  {
   "cell_type": "markdown",
   "id": "5d26b87e",
   "metadata": {},
   "source": [
    "### How to construct a sparse tensor type\n",
    "\n",
    "**Note**: this doesn't compute anything"
   ]
  },
  {
   "cell_type": "code",
   "execution_count": 6,
   "id": "79b839db",
   "metadata": {},
   "outputs": [
    {
     "name": "stdout",
     "output_type": "stream",
     "text": [
      "module {\n",
      "  func.func @main(%arg0: tensor<?x?xi32, #sparse_tensor.encoding<{ dimLevelType = [ \"dense\", \"compressed\" ] }>>) -> tensor<?x?xi32, #sparse_tensor.encoding<{ dimLevelType = [ \"dense\", \"compressed\" ] }>> attributes {llvm.emit_c_interface} {\n",
      "    return %arg0 : tensor<?x?xi32, #sparse_tensor.encoding<{ dimLevelType = [ \"dense\", \"compressed\" ] }>>\n",
      "  }\n",
      "}\n",
      "\n"
     ]
    }
   ],
   "source": [
    "with ir.Context(), ir.Location.unknown():\n",
    "    module = ir.Module.create()\n",
    "    with ir.InsertionPoint(module.body):\n",
    "        i32 = ir.IntegerType.get_signless(32)\n",
    "        sp_encoding = sparse_tensor.EncodingAttr.get(\n",
    "            [sparse_tensor.DimLevelType.dense, sparse_tensor.DimLevelType.compressed],\n",
    "            ir.AffineMap.get_permutation([0, 1]),\n",
    "            0,\n",
    "            0\n",
    "        )\n",
    "        rtt = ir.RankedTensorType.get((-1, -1), i32, sp_encoding)\n",
    "        @func.FuncOp.from_py_func(rtt)\n",
    "        def main(x):\n",
    "            return x\n",
    "        main.func_op.attributes[\"llvm.emit_c_interface\"] = ir.UnitAttr.get()\n",
    "    pm = passmanager.PassManager.parse(\"sparse-compiler\")\n",
    "print(module)"
   ]
  },
  {
   "cell_type": "markdown",
   "id": "295fc13d",
   "metadata": {},
   "source": [
    "# Full Example of generic dispatching\n",
    "\n",
    "### Sum a passed in tensor using linalg.generic"
   ]
  },
  {
   "cell_type": "code",
   "execution_count": 7,
   "id": "64c132ca",
   "metadata": {},
   "outputs": [],
   "source": [
    "NP_TYPE_TO_MLIR = {\n",
    "    np.dtype(np.int8).name: lambda: ir.IntegerType.get_signless(8),\n",
    "    np.dtype(np.int16).name: lambda: ir.IntegerType.get_signless(16),\n",
    "    np.dtype(np.int32).name: lambda: ir.IntegerType.get_signless(32),\n",
    "    np.dtype(np.int64).name: lambda: ir.IntegerType.get_signless(64),\n",
    "    np.dtype(np.float32).name: lambda: ir.F32Type.get(),\n",
    "    np.dtype(np.float64).name: lambda: ir.F64Type.get(),\n",
    "}\n",
    "NP_TYPE_TO_CTYPE = {\n",
    "    np.dtype(np.int8).name: ctypes.c_int8,\n",
    "    np.dtype(np.int16).name: ctypes.c_int16,\n",
    "    np.dtype(np.int32).name: ctypes.c_int32,\n",
    "    np.dtype(np.int64).name: ctypes.c_int64,\n",
    "    np.dtype(np.float32).name: ctypes.c_float,\n",
    "    np.dtype(np.float64).name: ctypes.c_double,\n",
    "}\n",
    "\n",
    "memoized = {}\n",
    "\n",
    "def reduce_sum(arr):\n",
    "    key = (len(arr), arr.dtype.name)\n",
    "    if key not in memoized:\n",
    "        memoized[key] = _build_reduce_sum(arr)\n",
    "    engine = memoized[key]\n",
    "    \n",
    "    c_typ = NP_TYPE_TO_CTYPE[arr.dtype.name]\n",
    "    out = runtime.make_nd_memref_descriptor(1, c_typ)()\n",
    "    \n",
    "    arg_pointers = [\n",
    "        ctypes.pointer(ctypes.pointer(runtime.get_ranked_memref_descriptor(arr))),\n",
    "        ctypes.pointer(c_typ(0)),\n",
    "    ]\n",
    "    engine.invoke(\"main\", *arg_pointers)\n",
    "    result = arg_pointers[-1].contents.value\n",
    "    return result\n",
    "\n",
    "def _build_reduce_sum(arr):\n",
    "    with ir.Context(), ir.Location.unknown():\n",
    "        module = ir.Module.create()\n",
    "        with ir.InsertionPoint(module.body):\n",
    "            dtype = NP_TYPE_TO_MLIR[arr.dtype.name]()\n",
    "            type_a = ir.RankedTensorType.get([len(arr)], dtype)\n",
    "            type_out = ir.RankedTensorType.get([], dtype)\n",
    "            @func.FuncOp.from_py_func(type_a)\n",
    "            def main(x):\n",
    "                vv = bufferization.AllocTensorOp(type_out, [], None, None)\n",
    "                generic_op = linalg.GenericOp(\n",
    "                    [type_out],\n",
    "                    [x],\n",
    "                    [vv],\n",
    "                    ir.ArrayAttr.get([ir.AffineMapAttr.get(ir.AffineMap.get_permutation([0])),\n",
    "                                      ir.AffineMapAttr.get(ir.AffineMap.get(1, 0, []))]),\n",
    "                    ir.ArrayAttr.get([ir.StringAttr.get(\"reduction\")]),\n",
    "                )\n",
    "                # Construct the linalg.generic body\n",
    "                block = generic_op.regions[0].blocks.append(dtype, dtype)\n",
    "                with ir.InsertionPoint(block):\n",
    "                    a, b = block.arguments\n",
    "                    if issubclass(arr.dtype.type, numbers.Integral):\n",
    "                        res = arith.AddIOp(a, b)\n",
    "                    else:\n",
    "                        res = arith.AddFOp(a, b)\n",
    "                    linalg.YieldOp([res])\n",
    "                final_result = tensor.ExtractOp(dtype, generic_op.result, [])\n",
    "                return final_result\n",
    "            main.func_op.attributes[\"llvm.emit_c_interface\"] = ir.UnitAttr.get()\n",
    "        pm = passmanager.PassManager.parse(\"sparse-compiler\")\n",
    "    #print(module)\n",
    "    pm = pm.run(module)\n",
    "    engine = execution_engine.ExecutionEngine(module)\n",
    "    return engine"
   ]
  },
  {
   "cell_type": "code",
   "execution_count": 8,
   "id": "bbc97220",
   "metadata": {},
   "outputs": [
    {
     "data": {
      "text/plain": [
       "10.0"
      ]
     },
     "execution_count": 8,
     "metadata": {},
     "output_type": "execute_result"
    }
   ],
   "source": [
    "reduce_sum(np.array([1., 2., 3., 4.], dtype=np.float32))"
   ]
  },
  {
   "cell_type": "code",
   "execution_count": 9,
   "id": "df932463",
   "metadata": {},
   "outputs": [
    {
     "data": {
      "text/plain": [
       "1225"
      ]
     },
     "execution_count": 9,
     "metadata": {},
     "output_type": "execute_result"
    }
   ],
   "source": [
    "reduce_sum(np.arange(50))"
   ]
  },
  {
   "cell_type": "code",
   "execution_count": 10,
   "id": "31d6178a",
   "metadata": {},
   "outputs": [
    {
     "data": {
      "text/plain": [
       "1249975000.0"
      ]
     },
     "execution_count": 10,
     "metadata": {},
     "output_type": "execute_result"
    }
   ],
   "source": [
    "k = np.arange(50000, dtype=np.float64)\n",
    "reduce_sum(k)"
   ]
  },
  {
   "cell_type": "code",
   "execution_count": 11,
   "id": "06983b37",
   "metadata": {},
   "outputs": [
    {
     "data": {
      "text/plain": [
       "1249975000.0"
      ]
     },
     "execution_count": 11,
     "metadata": {},
     "output_type": "execute_result"
    }
   ],
   "source": [
    "k.sum()"
   ]
  },
  {
   "cell_type": "code",
   "execution_count": 12,
   "id": "c7cc8adf",
   "metadata": {},
   "outputs": [
    {
     "data": {
      "text/plain": [
       "dict_keys([(4, 'float32'), (50, 'int64'), (50000, 'float64')])"
      ]
     },
     "execution_count": 12,
     "metadata": {},
     "output_type": "execute_result"
    }
   ],
   "source": [
    "memoized.keys()"
   ]
  },
  {
   "cell_type": "markdown",
   "id": "bb13a9b6",
   "metadata": {},
   "source": [
    "### Add 1 to a passed in numpy array"
   ]
  },
  {
   "cell_type": "code",
   "execution_count": 13,
   "id": "5b287877",
   "metadata": {},
   "outputs": [
    {
     "name": "stdout",
     "output_type": "stream",
     "text": [
      "#map = affine_map<(d0) -> (d0)>\n",
      "module {\n",
      "  func.func @main(%arg0: tensor<4xf32>) -> tensor<4xf32> attributes {llvm.emit_c_interface} {\n",
      "    %cst = arith.constant 1.000000e+00 : f32\n",
      "    %0 = tensor.splat %cst : tensor<4xf32>\n",
      "    %1 = linalg.generic {indexing_maps = [#map, #map], iterator_types = [\"parallel\"]} ins(%arg0 : tensor<4xf32>) outs(%0 : tensor<4xf32>) {\n",
      "    ^bb0(%arg1: f32, %arg2: f32):\n",
      "      %2 = arith.addf %arg1, %arg2 : f32\n",
      "      linalg.yield %2 : f32\n",
      "    } -> tensor<4xf32>\n",
      "    return %1 : tensor<4xf32>\n",
      "  }\n",
      "}\n",
      "\n",
      "--------------------------------------------------\n",
      "module attributes {llvm.data_layout = \"\"} {\n",
      "  llvm.func @malloc(i64) -> !llvm.ptr<i8>\n",
      "  llvm.mlir.global private constant @__constant_4xf32(dense<1.000000e+00> : tensor<4xf32>) {addr_space = 0 : i32, alignment = 128 : i64} : !llvm.array<4 x f32>\n",
      "  llvm.func @main(%arg0: !llvm.ptr<f32>, %arg1: !llvm.ptr<f32>, %arg2: i64, %arg3: i64, %arg4: i64) -> !llvm.struct<(ptr<f32>, ptr<f32>, i64, array<1 x i64>, array<1 x i64>)> attributes {llvm.emit_c_interface} {\n",
      "    %0 = llvm.mlir.undef : !llvm.struct<(ptr<f32>, ptr<f32>, i64, array<1 x i64>, array<1 x i64>)>\n",
      "    %1 = llvm.insertvalue %arg0, %0[0] : !llvm.struct<(ptr<f32>, ptr<f32>, i64, array<1 x i64>, array<1 x i64>)> \n",
      "    %2 = llvm.insertvalue %arg1, %1[1] : !llvm.struct<(ptr<f32>, ptr<f32>, i64, array<1 x i64>, array<1 x i64>)> \n",
      "    %3 = llvm.insertvalue %arg2, %2[2] : !llvm.struct<(ptr<f32>, ptr<f32>, i64, array<1 x i64>, array<1 x i64>)> \n",
      "    %4 = llvm.insertvalue %arg3, %3[3, 0] : !llvm.struct<(ptr<f32>, ptr<f32>, i64, array<1 x i64>, array<1 x i64>)> \n",
      "    %5 = llvm.insertvalue %arg4, %4[4, 0] : !llvm.struct<(ptr<f32>, ptr<f32>, i64, array<1 x i64>, array<1 x i64>)> \n",
      "    %6 = llvm.mlir.constant(0 : index) : i64\n",
      "    %7 = llvm.mlir.constant(4 : index) : i64\n",
      "    %8 = llvm.mlir.constant(1 : index) : i64\n",
      "    %9 = llvm.mlir.constant(4 : index) : i64\n",
      "    %10 = llvm.mlir.constant(1 : index) : i64\n",
      "    %11 = llvm.mlir.null : !llvm.ptr<f32>\n",
      "    %12 = llvm.getelementptr %11[4] : (!llvm.ptr<f32>) -> !llvm.ptr<f32>\n",
      "    %13 = llvm.ptrtoint %12 : !llvm.ptr<f32> to i64\n",
      "    %14 = llvm.mlir.addressof @__constant_4xf32 : !llvm.ptr<array<4 x f32>>\n",
      "    %15 = llvm.getelementptr %14[0, 0] : (!llvm.ptr<array<4 x f32>>) -> !llvm.ptr<f32>\n",
      "    %16 = llvm.mlir.constant(3735928559 : index) : i64\n",
      "    %17 = llvm.inttoptr %16 : i64 to !llvm.ptr<f32>\n",
      "    %18 = llvm.mlir.undef : !llvm.struct<(ptr<f32>, ptr<f32>, i64, array<1 x i64>, array<1 x i64>)>\n",
      "    %19 = llvm.insertvalue %17, %18[0] : !llvm.struct<(ptr<f32>, ptr<f32>, i64, array<1 x i64>, array<1 x i64>)> \n",
      "    %20 = llvm.insertvalue %15, %19[1] : !llvm.struct<(ptr<f32>, ptr<f32>, i64, array<1 x i64>, array<1 x i64>)> \n",
      "    %21 = llvm.mlir.constant(0 : index) : i64\n",
      "    %22 = llvm.insertvalue %21, %20[2] : !llvm.struct<(ptr<f32>, ptr<f32>, i64, array<1 x i64>, array<1 x i64>)> \n",
      "    %23 = llvm.insertvalue %9, %22[3, 0] : !llvm.struct<(ptr<f32>, ptr<f32>, i64, array<1 x i64>, array<1 x i64>)> \n",
      "    %24 = llvm.insertvalue %10, %23[4, 0] : !llvm.struct<(ptr<f32>, ptr<f32>, i64, array<1 x i64>, array<1 x i64>)> \n",
      "    %25 = llvm.mlir.constant(4 : index) : i64\n",
      "    %26 = llvm.mlir.constant(1 : index) : i64\n",
      "    %27 = llvm.mlir.null : !llvm.ptr<f32>\n",
      "    %28 = llvm.getelementptr %27[4] : (!llvm.ptr<f32>) -> !llvm.ptr<f32>\n",
      "    %29 = llvm.ptrtoint %28 : !llvm.ptr<f32> to i64\n",
      "    %30 = llvm.mlir.constant(128 : index) : i64\n",
      "    %31 = llvm.add %29, %30  : i64\n",
      "    %32 = llvm.call @malloc(%31) : (i64) -> !llvm.ptr<i8>\n",
      "    %33 = llvm.bitcast %32 : !llvm.ptr<i8> to !llvm.ptr<f32>\n",
      "    %34 = llvm.ptrtoint %33 : !llvm.ptr<f32> to i64\n",
      "    %35 = llvm.mlir.constant(1 : index) : i64\n",
      "    %36 = llvm.sub %30, %35  : i64\n",
      "    %37 = llvm.add %34, %36  : i64\n",
      "    %38 = llvm.urem %37, %30  : i64\n",
      "    %39 = llvm.sub %37, %38  : i64\n",
      "    %40 = llvm.inttoptr %39 : i64 to !llvm.ptr<f32>\n",
      "    %41 = llvm.mlir.undef : !llvm.struct<(ptr<f32>, ptr<f32>, i64, array<1 x i64>, array<1 x i64>)>\n",
      "    %42 = llvm.insertvalue %33, %41[0] : !llvm.struct<(ptr<f32>, ptr<f32>, i64, array<1 x i64>, array<1 x i64>)> \n",
      "    %43 = llvm.insertvalue %40, %42[1] : !llvm.struct<(ptr<f32>, ptr<f32>, i64, array<1 x i64>, array<1 x i64>)> \n",
      "    %44 = llvm.mlir.constant(0 : index) : i64\n",
      "    %45 = llvm.insertvalue %44, %43[2] : !llvm.struct<(ptr<f32>, ptr<f32>, i64, array<1 x i64>, array<1 x i64>)> \n",
      "    %46 = llvm.insertvalue %25, %45[3, 0] : !llvm.struct<(ptr<f32>, ptr<f32>, i64, array<1 x i64>, array<1 x i64>)> \n",
      "    %47 = llvm.insertvalue %26, %46[4, 0] : !llvm.struct<(ptr<f32>, ptr<f32>, i64, array<1 x i64>, array<1 x i64>)> \n",
      "    %48 = llvm.mlir.constant(1 : index) : i64\n",
      "    %49 = llvm.mul %48, %9  : i64\n",
      "    %50 = llvm.mlir.null : !llvm.ptr<f32>\n",
      "    %51 = llvm.getelementptr %50[1] : (!llvm.ptr<f32>) -> !llvm.ptr<f32>\n",
      "    %52 = llvm.ptrtoint %51 : !llvm.ptr<f32> to i64\n",
      "    %53 = llvm.mul %49, %52  : i64\n",
      "    %54 = llvm.mlir.constant(false) : i1\n",
      "    \"llvm.intr.memcpy\"(%40, %15, %53, %54) : (!llvm.ptr<f32>, !llvm.ptr<f32>, i64, i1) -> ()\n",
      "    llvm.br ^bb1(%6 : i64)\n",
      "  ^bb1(%55: i64):  // 2 preds: ^bb0, ^bb2\n",
      "    %56 = llvm.icmp \"slt\" %55, %7 : i64\n",
      "    llvm.cond_br %56, ^bb2, ^bb3\n",
      "  ^bb2:  // pred: ^bb1\n",
      "    %57 = llvm.extractvalue %5[1] : !llvm.struct<(ptr<f32>, ptr<f32>, i64, array<1 x i64>, array<1 x i64>)> \n",
      "    %58 = llvm.getelementptr %57[%55] : (!llvm.ptr<f32>, i64) -> !llvm.ptr<f32>\n",
      "    %59 = llvm.load %58 : !llvm.ptr<f32>\n",
      "    %60 = llvm.getelementptr %40[%55] : (!llvm.ptr<f32>, i64) -> !llvm.ptr<f32>\n",
      "    %61 = llvm.load %60 : !llvm.ptr<f32>\n",
      "    %62 = llvm.fadd %59, %61  : f32\n",
      "    %63 = llvm.getelementptr %40[%55] : (!llvm.ptr<f32>, i64) -> !llvm.ptr<f32>\n",
      "    llvm.store %62, %63 : !llvm.ptr<f32>\n",
      "    %64 = llvm.add %55, %8  : i64\n",
      "    llvm.br ^bb1(%64 : i64)\n",
      "  ^bb3:  // pred: ^bb1\n",
      "    llvm.return %47 : !llvm.struct<(ptr<f32>, ptr<f32>, i64, array<1 x i64>, array<1 x i64>)>\n",
      "  }\n",
      "  llvm.func @_mlir_ciface_main(%arg0: !llvm.ptr<struct<(ptr<f32>, ptr<f32>, i64, array<1 x i64>, array<1 x i64>)>>, %arg1: !llvm.ptr<struct<(ptr<f32>, ptr<f32>, i64, array<1 x i64>, array<1 x i64>)>>) attributes {llvm.emit_c_interface} {\n",
      "    %0 = llvm.load %arg1 : !llvm.ptr<struct<(ptr<f32>, ptr<f32>, i64, array<1 x i64>, array<1 x i64>)>>\n",
      "    %1 = llvm.extractvalue %0[0] : !llvm.struct<(ptr<f32>, ptr<f32>, i64, array<1 x i64>, array<1 x i64>)> \n",
      "    %2 = llvm.extractvalue %0[1] : !llvm.struct<(ptr<f32>, ptr<f32>, i64, array<1 x i64>, array<1 x i64>)> \n",
      "    %3 = llvm.extractvalue %0[2] : !llvm.struct<(ptr<f32>, ptr<f32>, i64, array<1 x i64>, array<1 x i64>)> \n",
      "    %4 = llvm.extractvalue %0[3, 0] : !llvm.struct<(ptr<f32>, ptr<f32>, i64, array<1 x i64>, array<1 x i64>)> \n",
      "    %5 = llvm.extractvalue %0[4, 0] : !llvm.struct<(ptr<f32>, ptr<f32>, i64, array<1 x i64>, array<1 x i64>)> \n",
      "    %6 = llvm.call @main(%1, %2, %3, %4, %5) : (!llvm.ptr<f32>, !llvm.ptr<f32>, i64, i64, i64) -> !llvm.struct<(ptr<f32>, ptr<f32>, i64, array<1 x i64>, array<1 x i64>)>\n",
      "    llvm.store %6, %arg0 : !llvm.ptr<struct<(ptr<f32>, ptr<f32>, i64, array<1 x i64>, array<1 x i64>)>>\n",
      "    llvm.return\n",
      "  }\n",
      "}\n",
      "\n"
     ]
    }
   ],
   "source": [
    "with ir.Context(), ir.Location.unknown():\n",
    "    module = ir.Module.create()\n",
    "    with ir.InsertionPoint(module.body):\n",
    "        f32 = ir.F32Type.get()\n",
    "        type_a = ir.RankedTensorType.get([4], f32)\n",
    "        @func.FuncOp.from_py_func(type_a)\n",
    "        def main(arr):\n",
    "            one = arith.ConstantOp(f32, 1.0)\n",
    "            vv = tensor.SplatOp(type_a, one)\n",
    "            generic_op = linalg.GenericOp(\n",
    "                [type_a],\n",
    "                [arr],\n",
    "                [vv],\n",
    "                ir.ArrayAttr.get([ir.AffineMapAttr.get(ir.AffineMap.get_permutation([0])),\n",
    "                                  ir.AffineMapAttr.get(ir.AffineMap.get_permutation([0]))]),\n",
    "                ir.ArrayAttr.get([ir.StringAttr.get(\"parallel\")]),\n",
    "            )\n",
    "            # Construct the linalg.generic body\n",
    "            block = generic_op.regions[0].blocks.append(f32, f32)\n",
    "            with ir.InsertionPoint(block):\n",
    "                a, b = block.arguments\n",
    "                res = arith.AddFOp(a, b)\n",
    "                linalg.YieldOp([res])\n",
    "            return generic_op.result\n",
    "        main.func_op.attributes[\"llvm.emit_c_interface\"] = ir.UnitAttr.get()\n",
    "    pm = passmanager.PassManager.parse(\"sparse-compiler\")\n",
    "print(module)\n",
    "pm = pm.run(module)\n",
    "print('-'*50)\n",
    "print(module)\n",
    "engine = execution_engine.ExecutionEngine(module)"
   ]
  },
  {
   "cell_type": "code",
   "execution_count": 14,
   "id": "2cb06d3b",
   "metadata": {},
   "outputs": [
    {
     "data": {
      "text/plain": [
       "array([2., 3., 4., 5.], dtype=float32)"
      ]
     },
     "execution_count": 14,
     "metadata": {},
     "output_type": "execute_result"
    }
   ],
   "source": [
    "a = np.array([1., 2., 3., 4.], dtype=np.float32)\n",
    "out = runtime.make_nd_memref_descriptor(1, ctypes.c_float)()\n",
    "\n",
    "arg_pointers = [\n",
    "    ctypes.pointer(ctypes.pointer(out)),  # result goes first for some strange reason?!?\n",
    "    ctypes.pointer(ctypes.pointer(runtime.get_ranked_memref_descriptor(a))),\n",
    "]\n",
    "engine.invoke(\"main\", *arg_pointers)\n",
    "result = runtime.ranked_memref_to_numpy(arg_pointers[0][0])\n",
    "result"
   ]
  },
  {
   "cell_type": "code",
   "execution_count": null,
   "id": "0d731b9a",
   "metadata": {},
   "outputs": [],
   "source": []
  },
  {
   "cell_type": "markdown",
   "id": "820165d8",
   "metadata": {},
   "source": [
    "### SCF Example"
   ]
  },
  {
   "cell_type": "code",
   "execution_count": 15,
   "id": "7c276509",
   "metadata": {},
   "outputs": [
    {
     "name": "stdout",
     "output_type": "stream",
     "text": [
      "module {\n",
      "  func.func @main(%arg0: f64) -> f64 attributes {llvm.emit_c_interface} {\n",
      "    %cst = arith.constant 0.000000e+00 : f64\n",
      "    %0 = arith.cmpf ogt, %arg0, %cst : f64\n",
      "    %1 = scf.if %0 -> (f64) {\n",
      "      %2 = arith.negf %arg0 : f64\n",
      "      scf.yield %2 : f64\n",
      "    } else {\n",
      "      scf.yield %arg0 : f64\n",
      "    }\n",
      "    return %1 : f64\n",
      "  }\n",
      "}\n",
      "\n",
      "Convert everything to negative\n",
      "------------------------------\n",
      " 2.3 -> -2.3\n",
      "-1.5 -> -1.5\n",
      " 0.0 -> 0.0\n",
      "-5.6 -> -5.6\n",
      " 5.9 -> -5.9\n"
     ]
    }
   ],
   "source": [
    "with ir.Context(), ir.Location.unknown():\n",
    "    module = ir.Module.create()\n",
    "    with ir.InsertionPoint(module.body):\n",
    "        i1 = ir.IntegerType.get_signless(1)\n",
    "        i64 = ir.IntegerType.get_signless(64)\n",
    "        f64 = ir.F64Type.get()\n",
    "        @func.FuncOp.from_py_func(f64)\n",
    "        def main(x):\n",
    "            zero = arith.ConstantOp(f64, 0.0)\n",
    "            # TODO: Figure out why this isn't allowed\n",
    "            # cmp = arith.CmpFOp(i1, ir.StringAttr.get(\"ogt\"), x, zero)\n",
    "            cmp = arith.CmpFOp(i1, ir.IntegerAttr.get(i64, 2), x, zero)\n",
    "            if_ = scf.IfOp(cmp.result, [f64], hasElse=True)\n",
    "            with ir.InsertionPoint(if_.then_block):\n",
    "                negX = arith.NegFOp(x)\n",
    "                scf.YieldOp([negX])\n",
    "            with ir.InsertionPoint(if_.else_block):\n",
    "                scf.YieldOp([x])\n",
    "            return if_.result\n",
    "        main.func_op.attributes[\"llvm.emit_c_interface\"] = ir.UnitAttr.get()\n",
    "    pm = passmanager.PassManager.parse(\"sparse-compiler\")\n",
    "print(module)\n",
    "pm = pm.run(module)\n",
    "engine = execution_engine.ExecutionEngine(module)\n",
    "\n",
    "def negabs(x):\n",
    "    arg_pointers = [\n",
    "        ctypes.pointer(ctypes.c_double(x)),\n",
    "        ctypes.pointer(ctypes.c_double(0)),\n",
    "    ]\n",
    "    engine.invoke(\"main\", *arg_pointers)\n",
    "    return arg_pointers[-1].contents.value\n",
    "\n",
    "print('Convert everything to negative')\n",
    "print('-'*30)\n",
    "for n in [2.3, -1.5, 0.0, -5.6, 5.9]:\n",
    "    print(f\"{' ' if n >= 0 else ''}{n} -> {negabs(n)}\")"
   ]
  },
  {
   "cell_type": "code",
   "execution_count": null,
   "id": "538d6a77",
   "metadata": {},
   "outputs": [],
   "source": []
  }
 ],
 "metadata": {
  "kernelspec": {
   "display_name": "Python 3 (ipykernel)",
   "language": "python",
   "name": "python3"
  },
  "language_info": {
   "codemirror_mode": {
    "name": "ipython",
    "version": 3
   },
   "file_extension": ".py",
   "mimetype": "text/x-python",
   "name": "python",
   "nbconvert_exporter": "python",
   "pygments_lexer": "ipython3",
   "version": "3.10.4"
  }
 },
 "nbformat": 4,
 "nbformat_minor": 5
}
